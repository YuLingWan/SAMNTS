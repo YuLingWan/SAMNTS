{
 "cells": [
  {
   "cell_type": "code",
   "execution_count": 17,
   "id": "35db4070",
   "metadata": {},
   "outputs": [],
   "source": [
    "import pandas as pd\n",
    "import numpy as np\n",
    "import matplotlib.pyplot as plt\n",
    "import torch\n",
    "import torch.nn as nn\n",
    "import torch.optim as optim\n",
    "import shap\n",
    "from sklearn.model_selection import train_test_split\n",
    "from sklearn.preprocessing import StandardScaler\n",
    "import seaborn as sn\n",
    "from sklearn.decomposition import PCA \n",
    "from sklearn.preprocessing import MinMaxScaler\n",
    "from tensorflow.keras.models import Sequential\n",
    "from tensorflow.keras.layers import LSTM, Dense,BatchNormalization,Dropout,SimpleRNN,GRU\n",
    "import tensorflow as tf\n",
    "from sklearn.ensemble import RandomForestRegressor\n",
    "from tensorflow import keras"
   ]
  },
  {
   "cell_type": "code",
   "execution_count": 1,
   "id": "194f5a21",
   "metadata": {},
   "outputs": [],
   "source": [
    "import pandas as pd\n",
    "import numpy as np\n",
    "import matplotlib.pyplot as plt\n",
    "import torch\n",
    "import torch.nn as nn\n",
    "import torch.optim as optim\n",
    "import shap\n",
    "from sklearn.model_selection import train_test_split\n",
    "from sklearn.preprocessing import StandardScaler\n",
    "import seaborn as sn\n",
    "from sklearn.decomposition import PCA \n",
    "from sklearn.preprocessing import MinMaxScaler\n",
    "from tensorflow.keras.models import Sequential\n",
    "from tensorflow.keras.layers import LSTM, Dense,BatchNormalization,Dropout\n",
    "import tensorflow as tf\n",
    "from sklearn.ensemble import RandomForestRegressor\n",
    "from tensorflow import keras"
   ]
  },
  {
   "cell_type": "code",
   "execution_count": 3,
   "id": "78779ac0",
   "metadata": {},
   "outputs": [],
   "source": [
    "df = pd.read_excel(\"the total emissions data from three carbon-emitting sectors.xlsx\")\n",
    "df = df.drop(columns=['日期','iso_code','国家'])\n",
    "X = df[100:]\n",
    "y=X['carbon emission']\n",
    "X = X.drop(columns=['carbon emission'])\n",
    "X = X.drop(columns=['daily_people_vaccinated_per_hundred'])\n",
    "#X = X.dropna() "
   ]
  },
  {
   "cell_type": "code",
   "execution_count": null,
   "id": "ebd97438",
   "metadata": {},
   "outputs": [],
   "source": [
    "\n",
    "def create_dataset(data, lookback=1):\n",
    "    X, y = [], []\n",
    "    for i in range(len(data)-lookback):\n",
    "        X.append(data[i:i+lookback, :])\n",
    "        y.append(data[i+lookback, 0])\n",
    "    return np.array(X), np.array(y)\n",
    "scaler = MinMaxScaler(feature_range=(0, 1))\n",
    "scaled_data = scaler.fit_transform(np.array(y).reshape(-1,1))\n",
    "X_time,y_time = create_dataset(scaled_data,20)\n",
    "train_x,test_x,train_y,test_y = train_test_split(X_time,y_time)\n",
    "#GRU\n",
    "batch_size = 1000  \n",
    "steps = 50  \n",
    "n_features = 1  \n",
    "n_outputs = 1  \n",
    "epochs = 10  \n",
    "model = Sequential()  \n",
    "model.add(GRU(10, input_shape=(20, n_features)))  \n",
    "#model.add(GRU(50))  \n",
    "model.add(Dense(1))\n",
    "model.compile(loss='mean_squared_error', optimizer='adam')\n",
    "model.fit(train_x, train_y, epochs=10, batch_size=1, verbose=2,validation_data=(test_x,test_y))\n",
    "ttest_x = model.predict(test_x)\n",
    "test_predict = scaler.inverse_transform(ttest_x)\n",
    "Y_rel = scaler.inverse_transform(np.array(test_y).reshape(-1,1))\n",
    "print(((test_predict-Y_rel)**2).mean())\n",
    "print(abs((test_predict-Y_rel)).mean())\n",
    "ss_res = ((test_predict - Y_rel) ** 2).sum()  \n",
    "ss_tot = ((Y_rel - Y_rel.mean()) ** 2).sum()  \n",
    "r2 = 1 - (ss_res / ss_tot)  \n",
    "print(f'R-squared: {r2.item():.4f}')"
   ]
  },
  {
   "cell_type": "code",
   "execution_count": null,
   "id": "342e2123",
   "metadata": {},
   "outputs": [],
   "source": []
  },
  {
   "cell_type": "code",
   "execution_count": null,
   "id": "584c6626",
   "metadata": {},
   "outputs": [],
   "source": []
  },
  {
   "cell_type": "code",
   "execution_count": null,
   "id": "be2167a8",
   "metadata": {},
   "outputs": [],
   "source": []
  },
  {
   "cell_type": "code",
   "execution_count": 4,
   "id": "d160c028",
   "metadata": {},
   "outputs": [],
   "source": [
    "def create_dataset(data, lookback=1):\n",
    "    X, y = [], []\n",
    "    for i in range(len(data)-lookback):\n",
    "        X.append(data[i:i+lookback, :])\n",
    "        y.append(data[i+lookback, 0])\n",
    "    return np.array(X), np.array(y)"
   ]
  },
  {
   "cell_type": "code",
   "execution_count": 20,
   "id": "60f4ba3a",
   "metadata": {},
   "outputs": [],
   "source": [
    "scaler = MinMaxScaler(feature_range=(0, 1))\n",
    "scaled_data = scaler.fit_transform(np.array(y).reshape(-1,1))\n",
    "X_time,y_time = create_dataset(scaled_data,20)"
   ]
  },
  {
   "cell_type": "code",
   "execution_count": 36,
   "id": "3b299dea",
   "metadata": {},
   "outputs": [],
   "source": [
    "train_x,test_x,train_y,test_y = train_test_split(X_time,y_time)"
   ]
  },
  {
   "cell_type": "code",
   "execution_count": 30,
   "id": "42aa238b",
   "metadata": {},
   "outputs": [
    {
     "name": "stdout",
     "output_type": "stream",
     "text": [
      "Epoch 1/10\n",
      "462/462 - 2s - loss: 0.0093 - val_loss: 0.0063 - 2s/epoch - 4ms/step\n",
      "Epoch 2/10\n",
      "462/462 - 1s - loss: 0.0080 - val_loss: 0.0078 - 1s/epoch - 2ms/step\n",
      "Epoch 3/10\n",
      "462/462 - 1s - loss: 0.0077 - val_loss: 0.0062 - 1s/epoch - 2ms/step\n",
      "Epoch 4/10\n",
      "462/462 - 1s - loss: 0.0077 - val_loss: 0.0063 - 1s/epoch - 2ms/step\n",
      "Epoch 5/10\n",
      "462/462 - 1s - loss: 0.0074 - val_loss: 0.0061 - 1s/epoch - 2ms/step\n",
      "Epoch 6/10\n",
      "462/462 - 1s - loss: 0.0075 - val_loss: 0.0064 - 1s/epoch - 2ms/step\n",
      "Epoch 7/10\n",
      "462/462 - 1s - loss: 0.0073 - val_loss: 0.0061 - 1s/epoch - 2ms/step\n",
      "Epoch 8/10\n",
      "462/462 - 1s - loss: 0.0074 - val_loss: 0.0063 - 1s/epoch - 2ms/step\n",
      "Epoch 9/10\n",
      "462/462 - 1s - loss: 0.0071 - val_loss: 0.0067 - 1s/epoch - 2ms/step\n",
      "Epoch 10/10\n",
      "462/462 - 1s - loss: 0.0072 - val_loss: 0.0061 - 1s/epoch - 2ms/step\n",
      "5/5 [==============================] - 0s 2ms/step\n",
      "0.318823567342\n",
      "0.51034325678\n",
      "R-squared: 0.7471\n"
     ]
    }
   ],
   "source": [
    "#GRU\n",
    "batch_size = 1000  \n",
    "steps = 50  \n",
    "n_features = 1  \n",
    "n_outputs = 1  \n",
    "epochs = 10  \n",
    "model = Sequential()  \n",
    "model.add(GRU(10, input_shape=(20, n_features)))  \n",
    "#model.add(GRU(50))  \n",
    "model.add(Dense(1))\n",
    "model.compile(loss='mean_squared_error', optimizer='adam')\n",
    "model.fit(train_x, train_y, epochs=10, batch_size=1, verbose=2,validation_data=(test_x,test_y))\n",
    "ttest_x = model.predict(test_x)\n",
    "test_predict = scaler.inverse_transform(ttest_x)\n",
    "Y_rel = scaler.inverse_transform(np.array(test_y).reshape(-1,1))\n",
    "print(((test_predict-Y_rel)**2).mean())\n",
    "print(abs((test_predict-Y_rel)).mean())\n",
    "ss_res = ((test_predict - Y_rel) ** 2).sum()  \n",
    "ss_tot = ((Y_rel - Y_rel.mean()) ** 2).sum()  \n",
    "r2 = 1 - (ss_res / ss_tot)  \n",
    "print(f'R-squared: {r2.item():.4f}')"
   ]
  },
  {
   "cell_type": "code",
   "execution_count": 28,
   "id": "e890836e",
   "metadata": {},
   "outputs": [
    {
     "name": "stdout",
     "output_type": "stream",
     "text": [
      "Epoch 1/10\n",
      "462/462 - 3s - loss: 0.0168 - val_loss: 0.0079 - 3s/epoch - 6ms/step\n",
      "Epoch 2/10\n",
      "462/462 - 2s - loss: 0.0107 - val_loss: 0.0071 - 2s/epoch - 4ms/step\n",
      "Epoch 3/10\n",
      "462/462 - 2s - loss: 0.0093 - val_loss: 0.0068 - 2s/epoch - 4ms/step\n",
      "Epoch 4/10\n",
      "462/462 - 2s - loss: 0.0082 - val_loss: 0.0069 - 2s/epoch - 4ms/step\n",
      "Epoch 5/10\n",
      "462/462 - 2s - loss: 0.0078 - val_loss: 0.0060 - 2s/epoch - 4ms/step\n",
      "Epoch 6/10\n",
      "462/462 - 2s - loss: 0.0079 - val_loss: 0.0067 - 2s/epoch - 4ms/step\n",
      "Epoch 7/10\n",
      "462/462 - 2s - loss: 0.0080 - val_loss: 0.0066 - 2s/epoch - 4ms/step\n",
      "Epoch 8/10\n",
      "462/462 - 2s - loss: 0.0076 - val_loss: 0.0061 - 2s/epoch - 4ms/step\n",
      "Epoch 9/10\n",
      "462/462 - 2s - loss: 0.0079 - val_loss: 0.0063 - 2s/epoch - 4ms/step\n",
      "Epoch 10/10\n",
      "462/462 - 2s - loss: 0.0077 - val_loss: 0.0068 - 2s/epoch - 4ms/step\n",
      "5/5 [==============================] - 0s 5ms/step\n",
      "0.2836121260478416\n",
      "0.38658046084872155\n",
      "R-squared: 0.7814\n"
     ]
    }
   ],
   "source": [
    "#LSTM\n",
    "model = Sequential()\n",
    "model.add(LSTM(200,input_shape=(20, 1)))\n",
    "#model.add(LSTM(100))return_sequences=True,\n",
    "model.add(Dense(1))\n",
    "model.compile(loss='mean_squared_error', optimizer='adam')\n",
    "model.fit(train_x, train_y, epochs=10, batch_size=1, verbose=2,validation_data=(test_x,test_y))\n",
    "ttest_x = model.predict(test_x)\n",
    "test_predict = scaler.inverse_transform(ttest_x)\n",
    "Y_rel = scaler.inverse_transform(np.array(test_y).reshape(-1,1))\n",
    "print(((test_predict-Y_rel)**2).mean())\n",
    "print(abs((test_predict-Y_rel)).mean())\n",
    "ss_res = ((test_predict - Y_rel) ** 2).sum()  \n",
    "ss_tot = ((Y_rel - Y_rel.mean()) ** 2).sum()  \n",
    "r2 = 1 - (ss_res / ss_tot)  \n",
    "print(f'R-squared: {r2.item():.4f}')"
   ]
  },
  {
   "cell_type": "code",
   "execution_count": 39,
   "id": "5c8c378a",
   "metadata": {},
   "outputs": [
    {
     "name": "stdout",
     "output_type": "stream",
     "text": [
      "Epoch 1/10\n",
      "462/462 - 1s - loss: 2.3098 - val_loss: 0.4888 - 1s/epoch - 2ms/step\n",
      "Epoch 2/10\n",
      "462/462 - 1s - loss: 0.4199 - val_loss: 0.3281 - 647ms/epoch - 1ms/step\n",
      "Epoch 3/10\n",
      "462/462 - 1s - loss: 0.3353 - val_loss: 0.3483 - 656ms/epoch - 1ms/step\n",
      "Epoch 4/10\n",
      "462/462 - 1s - loss: 0.3236 - val_loss: 0.4016 - 623ms/epoch - 1ms/step\n",
      "Epoch 5/10\n",
      "462/462 - 1s - loss: 0.3342 - val_loss: 0.3417 - 649ms/epoch - 1ms/step\n",
      "Epoch 6/10\n",
      "462/462 - 1s - loss: 0.3231 - val_loss: 0.3846 - 631ms/epoch - 1ms/step\n",
      "Epoch 7/10\n",
      "462/462 - 1s - loss: 0.3054 - val_loss: 0.5025 - 636ms/epoch - 1ms/step\n",
      "Epoch 8/10\n",
      "462/462 - 1s - loss: 0.3009 - val_loss: 0.4095 - 643ms/epoch - 1ms/step\n",
      "Epoch 9/10\n",
      "462/462 - 1s - loss: 0.3094 - val_loss: 0.3435 - 644ms/epoch - 1ms/step\n",
      "Epoch 10/10\n",
      "462/462 - 1s - loss: 0.3087 - val_loss: 0.3342 - 657ms/epoch - 1ms/step\n",
      "5/5 [==============================] - 0s 1ms/step\n",
      "0.4644325556\n",
      "0.5201242345\n",
      "R-squared: 0.6687\n"
     ]
    }
   ],
   "source": [
    "#RNN\n",
    "model = Sequential()\n",
    "model.add(SimpleRNN(50,input_shape=(20, 1)))\n",
    "model.add(Dense(1))\n",
    "model.compile(loss='mean_squared_error', optimizer='adam')\n",
    "model.fit(train_x, train_y, epochs=10, batch_size=1, verbose=2,validation_data=(test_x,test_y))\n",
    "ttest_x = model.predict(test_x)\n",
    "test_predict = scaler.inverse_transform(ttest_x)\n",
    "Y_rel = scaler.inverse_transform(np.array(test_y).reshape(-1,1))\n",
    "print(((test_predict-Y_rel)**2).mean())\n",
    "print(abs((test_predict-Y_rel)).mean())\n",
    "ss_res = ((test_predict - Y_rel) ** 2).sum()  \n",
    "ss_tot = ((Y_rel - Y_rel.mean()) ** 2).sum()  \n",
    "r2 = 1 - (ss_res / ss_tot)  \n",
    "print(f'R-squared: {r2.item():.4f}')"
   ]
  },
  {
   "cell_type": "code",
   "execution_count": null,
   "id": "47ca1e41",
   "metadata": {},
   "outputs": [],
   "source": []
  },
  {
   "cell_type": "code",
   "execution_count": null,
   "id": "5e243dcb",
   "metadata": {},
   "outputs": [],
   "source": []
  },
  {
   "cell_type": "code",
   "execution_count": null,
   "id": "98c6983e",
   "metadata": {},
   "outputs": [],
   "source": []
  },
  {
   "cell_type": "code",
   "execution_count": null,
   "id": "6bff9f9f",
   "metadata": {},
   "outputs": [],
   "source": []
  }
 ],
 "metadata": {
  "kernelspec": {
   "display_name": "Python 3 (ipykernel)",
   "language": "python",
   "name": "python3"
  },
  "language_info": {
   "codemirror_mode": {
    "name": "ipython",
    "version": 3
   },
   "file_extension": ".py",
   "mimetype": "text/x-python",
   "name": "python",
   "nbconvert_exporter": "python",
   "pygments_lexer": "ipython3",
   "version": "3.11.5"
  }
 },
 "nbformat": 4,
 "nbformat_minor": 5
}
